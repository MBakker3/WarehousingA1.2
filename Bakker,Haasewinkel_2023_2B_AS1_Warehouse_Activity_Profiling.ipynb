{
  "nbformat": 4,
  "nbformat_minor": 0,
  "metadata": {
    "colab": {
      "provenance": [],
      "include_colab_link": true
    },
    "kernelspec": {
      "name": "python3",
      "display_name": "Python 3"
    },
    "language_info": {
      "name": "python"
    }
  },
  "cells": [
    {
      "cell_type": "markdown",
      "metadata": {
        "id": "view-in-github",
        "colab_type": "text"
      },
      "source": [
        "<a href=\"https://colab.research.google.com/github/MBakker3/WarehousingA12/blob/main/Bakker%2CHaasewinkel_2023_2B_AS1_Warehouse_Activity_Profiling.ipynb\" target=\"_parent\"><img src=\"https://colab.research.google.com/assets/colab-badge.svg\" alt=\"Open In Colab\"/></a>"
      ]
    },
    {
      "cell_type": "markdown",
      "source": [
        "# Warehouse Activity Profiling\n",
        "\n",
        "Group:\n",
        "\n",
        "- Student 1 (id)\n",
        "- Student 2 (id)"
      ],
      "metadata": {
        "id": "iB8JOmXQHCrs"
      }
    },
    {
      "cell_type": "markdown",
      "source": [
        "## Data Setup\n",
        "\n",
        "In the following, warehousing data is downloaded to a local directory `data/raw`."
      ],
      "metadata": {
        "id": "l0SsvLbP_TZQ"
      }
    },
    {
      "cell_type": "code",
      "source": [
        "# Install useful libraries\n",
        "!pip install -q gdown pathlib pandas seaborn matplotlib numpy plotly\n",
        "\n",
        "# Useful libraries\n",
        "import gdown\n",
        "import pathlib\n",
        "import os\n",
        "\n",
        "# File names, storage links, and column headers\n",
        "files = {\n",
        "  \"DC23MINMAX2.xls\":\"https://docs.google.com/uc?id=1-HdyNodYixXl6cMUS-YxKhngPSBsP4Mq\",\n",
        "  \"BCF-zones.xls\":\"https://docs.google.com/uc?id=11ULuWAONeoT5u15KNLPo2IhlWf7gKAHs\",\n",
        "  \"dc23Sales04.txt\":\"https://drive.google.com/uc?id=16Z3vAdCzwErOTUF5MYOv-6Jc0wtis2x-\",\n",
        "  \"Phily_Dim_Status2.xls\":\"https://docs.google.com/uc?id=1EZuFoHB8X2Ji_ylOozsTnc3IM8VBs7Sl\",\n",
        "  \"DC23ACTIVE AS OF 050210.xls\":\"https://docs.google.com/uc?id=1QQDh-i4XXHuXmRP3hB9WCw5zLn5VY-OO\",\n",
        "  \"CDCART23.txt\":\"https://drive.google.com/uc?id=1b_YdIZFgpHpwGiStUZgFXdX8OQo5TD5q\",\n",
        "  \"CHCART23.txt\":\"https://drive.google.com/uc?id=1hc5aJHHkA33QG3mWaR0YWb-TMJK_svqd\",\n",
        "  \"DC23CASES AS OF 050210.xls\":\"https://docs.google.com/uc?id=1ok3ymi8g5FsBFVThjNC7TRuEIg3GDrP7\",\n",
        "  \"ITEMDATAV2.txt\":\"https://drive.google.com/uc?id=1xX1L5aMErZWRPjK90XgocHa9OKVcFMJh\",\n",
        "  \"TRCART23.txt\":\"https://drive.google.com/uc?id=1y3g786KPqAtcVveDBsM9xwjtlKTN4-vL\",\n",
        "}\n",
        "\n",
        "# Files' destination directory\n",
        "folder = pathlib.Path(\"data/raw\")\n",
        "\n",
        "# Create destination directory inside project folder\n",
        "os.makedirs(folder, exist_ok=True)\n",
        "\n",
        "for output, url in files.items():\n",
        "  print(f\"Downloading file: {output}\")\n",
        "  # Download a file to the the target folder\n",
        "  gdown.download(url, str(folder / output), quiet=False)\n"
      ],
      "metadata": {
        "colab": {
          "base_uri": "https://localhost:8080/"
        },
        "id": "Deup8CxG_Dhw",
        "outputId": "34c5d1ea-da6d-421e-973e-63ac84621452"
      },
      "execution_count": null,
      "outputs": [
        {
          "output_type": "stream",
          "name": "stdout",
          "text": [
            "Downloading file: DC23MINMAX2.xls\n"
          ]
        },
        {
          "output_type": "stream",
          "name": "stderr",
          "text": [
            "Downloading...\n",
            "From: https://docs.google.com/uc?id=1-HdyNodYixXl6cMUS-YxKhngPSBsP4Mq\n",
            "To: /content/data/raw/DC23MINMAX2.xls\n",
            "100%|██████████| 2.02M/2.02M [00:00<00:00, 76.6MB/s]\n"
          ]
        },
        {
          "output_type": "stream",
          "name": "stdout",
          "text": [
            "Downloading file: BCF-zones.xls\n"
          ]
        },
        {
          "output_type": "stream",
          "name": "stderr",
          "text": [
            "Downloading...\n",
            "From: https://docs.google.com/uc?id=11ULuWAONeoT5u15KNLPo2IhlWf7gKAHs\n",
            "To: /content/data/raw/BCF-zones.xls\n",
            "100%|██████████| 113k/113k [00:00<00:00, 18.7MB/s]\n"
          ]
        },
        {
          "output_type": "stream",
          "name": "stdout",
          "text": [
            "Downloading file: dc23Sales04.txt\n"
          ]
        },
        {
          "output_type": "stream",
          "name": "stderr",
          "text": [
            "Downloading...\n",
            "From (original): https://drive.google.com/uc?id=16Z3vAdCzwErOTUF5MYOv-6Jc0wtis2x-\n",
            "From (redirected): https://drive.google.com/uc?id=16Z3vAdCzwErOTUF5MYOv-6Jc0wtis2x-&confirm=t&uuid=05756921-cba5-43bd-9050-4377da1be99b\n",
            "To: /content/data/raw/dc23Sales04.txt\n",
            "100%|██████████| 190M/190M [00:01<00:00, 170MB/s]\n"
          ]
        },
        {
          "output_type": "stream",
          "name": "stdout",
          "text": [
            "Downloading file: Phily_Dim_Status2.xls\n"
          ]
        },
        {
          "output_type": "stream",
          "name": "stderr",
          "text": [
            "Downloading...\n",
            "From: https://docs.google.com/uc?id=1EZuFoHB8X2Ji_ylOozsTnc3IM8VBs7Sl\n",
            "To: /content/data/raw/Phily_Dim_Status2.xls\n",
            "100%|██████████| 5.95M/5.95M [00:00<00:00, 151MB/s]\n"
          ]
        },
        {
          "output_type": "stream",
          "name": "stdout",
          "text": [
            "Downloading file: DC23ACTIVE AS OF 050210.xls\n"
          ]
        },
        {
          "output_type": "stream",
          "name": "stderr",
          "text": [
            "Downloading...\n",
            "From: https://docs.google.com/uc?id=1QQDh-i4XXHuXmRP3hB9WCw5zLn5VY-OO\n",
            "To: /content/data/raw/DC23ACTIVE AS OF 050210.xls\n",
            "100%|██████████| 2.79M/2.79M [00:00<00:00, 119MB/s]\n"
          ]
        },
        {
          "output_type": "stream",
          "name": "stdout",
          "text": [
            "Downloading file: CDCART23.txt\n"
          ]
        },
        {
          "output_type": "stream",
          "name": "stderr",
          "text": [
            "Downloading...\n",
            "From: https://drive.google.com/uc?id=1b_YdIZFgpHpwGiStUZgFXdX8OQo5TD5q\n",
            "To: /content/data/raw/CDCART23.txt\n",
            "100%|██████████| 20.9M/20.9M [00:00<00:00, 177MB/s]\n"
          ]
        },
        {
          "output_type": "stream",
          "name": "stdout",
          "text": [
            "Downloading file: CHCART23.txt\n"
          ]
        },
        {
          "output_type": "stream",
          "name": "stderr",
          "text": [
            "Downloading...\n",
            "From: https://drive.google.com/uc?id=1hc5aJHHkA33QG3mWaR0YWb-TMJK_svqd\n",
            "To: /content/data/raw/CHCART23.txt\n",
            "100%|██████████| 8.19M/8.19M [00:00<00:00, 53.6MB/s]\n"
          ]
        },
        {
          "output_type": "stream",
          "name": "stdout",
          "text": [
            "Downloading file: DC23CASES AS OF 050210.xls\n"
          ]
        },
        {
          "output_type": "stream",
          "name": "stderr",
          "text": [
            "Downloading...\n",
            "From: https://docs.google.com/uc?id=1ok3ymi8g5FsBFVThjNC7TRuEIg3GDrP7\n",
            "To: /content/data/raw/DC23CASES AS OF 050210.xls\n",
            "100%|██████████| 8.10M/8.10M [00:00<00:00, 145MB/s]\n"
          ]
        },
        {
          "output_type": "stream",
          "name": "stdout",
          "text": [
            "Downloading file: ITEMDATAV2.txt\n"
          ]
        },
        {
          "output_type": "stream",
          "name": "stderr",
          "text": [
            "Downloading...\n",
            "From: https://drive.google.com/uc?id=1xX1L5aMErZWRPjK90XgocHa9OKVcFMJh\n",
            "To: /content/data/raw/ITEMDATAV2.txt\n",
            "100%|██████████| 6.34M/6.34M [00:00<00:00, 222MB/s]\n"
          ]
        },
        {
          "output_type": "stream",
          "name": "stdout",
          "text": [
            "Downloading file: TRCART23.txt\n"
          ]
        },
        {
          "output_type": "stream",
          "name": "stderr",
          "text": [
            "Downloading...\n",
            "From: https://drive.google.com/uc?id=1y3g786KPqAtcVveDBsM9xwjtlKTN4-vL\n",
            "To: /content/data/raw/TRCART23.txt\n",
            "100%|██████████| 18.7M/18.7M [00:00<00:00, 154MB/s]\n"
          ]
        }
      ]
    },
    {
      "cell_type": "markdown",
      "source": [
        "Loading the data into Pandas DataFrames:"
      ],
      "metadata": {
        "id": "asC7iqYZ_0MA"
      }
    },
    {
      "cell_type": "code",
      "source": [
        "import pandas as pd\n",
        "\n",
        "dc23Sales04 = pd.read_table(str(folder/\"dc23Sales04.txt\"))\n",
        "Phily_Dim_Status2 = pd.read_excel(str(folder/\"Phily_Dim_Status2.xls\"))\n",
        "\n",
        "print(dc23Sales04.head(5))\n",
        "print(Phily_Dim_Status2.head(5))"
      ],
      "metadata": {
        "colab": {
          "base_uri": "https://localhost:8080/"
        },
        "id": "et51H4ei_zLL",
        "outputId": "e8c5fa11-18bf-44a1-c934-bdfe64aeff5d"
      },
      "execution_count": null,
      "outputs": [
        {
          "output_type": "stream",
          "name": "stdout",
          "text": [
            "         item vnid                       itdesc      ordnbr  linenbr  \\\n",
            "0    BRTTN460  BRT    CRTDG,TNR,HI YLD,F/HL1250  23926870.0      1.0   \n",
            "1  CMC5810-BE  CMC   CART,UTLTY,200#CPCTY,16X36  23559658.0      1.0   \n",
            "2    KOK00172  KOK        TAPE,REFILL,PERMANENT  23840414.0      2.0   \n",
            "3     SOF1500  SOF  TWISSTOP,PHONE UNTANGLER,CL  23926870.0      2.0   \n",
            "4    SPR19764  GBC       BOARD,CORK,ALUMFRM,3X2  23750895.0      3.0   \n",
            "\n",
            "     cusnbr  ordqty  shpqty uom              txndate  \n",
            "0  615413.0     4.0     4.0  EA  2004-12-01 17:01:00  \n",
            "1   10135.0     8.0     8.0  EA  2004-08-02 14:45:00  \n",
            "2  614283.0     1.0     1.0  EA  2004-11-01 10:41:00  \n",
            "3  615413.0    20.0    20.0  EA  2004-12-01 17:01:00  \n",
            "4   27454.0     3.0     3.0  EA  2004-10-01 15:46:00  \n",
            "        SKU Stocked OMS Status                  Description Selling UOM  \\\n",
            "0  AAG47294       Y          X         PLNR,\"FAT LITTLE\",BK          EA   \n",
            "1  AAG47342       Y          X   ORGNZR,LTHR,SNAP,8.5X11,BK          EA   \n",
            "2  AAG47344       Y          X  ORGNZR,VYL,ZIP,3.75X6.75,BK          EA   \n",
            "3  AAG47346       Y          X  ORGNZR,SMLTH,ZIP,5.5X8.5,BK          EA   \n",
            "4  AAG47348       Y          X    ORGNZR,VNYL,ZIP,8.5X11,BK          EA   \n",
            "\n",
            "   SellLen  SellWid  SellHgt  SellWgt ShipSelling  ... Inner1Qty  Inner1Len  \\\n",
            "0      6.2      6.1      1.7     0.90           N  ...         0        0.0   \n",
            "1     11.9     12.0      2.4     2.91           N  ...         0        0.0   \n",
            "2      8.6      5.9      1.5     1.15           N  ...         0        0.0   \n",
            "3     10.3      8.1      1.9     1.48           N  ...         0        0.0   \n",
            "4     13.7     12.0      2.5     3.48           N  ...         0        0.0   \n",
            "\n",
            "   Inner1Wid  Inner1Hgt  Inner1Wgt  CaseQty  CaseLen  CaseWid  CaseHgt  \\\n",
            "0        0.0        0.0        0.0        3      6.4      5.5      6.8   \n",
            "1        0.0        0.0        0.0        6     11.7     11.5     13.0   \n",
            "2        0.0        0.0        0.0        6     13.8      8.1      9.9   \n",
            "3        0.0        0.0        0.0        6     11.3      8.8     11.4   \n",
            "4        0.0        0.0        0.0        3     14.8     11.8     11.2   \n",
            "\n",
            "   CaseWgt  \n",
            "0     3.30  \n",
            "1    16.70  \n",
            "2     8.10  \n",
            "3     9.76  \n",
            "4    17.91  \n",
            "\n",
            "[5 rows x 21 columns]\n"
          ]
        }
      ]
    },
    {
      "cell_type": "markdown",
      "source": [
        "## I) Profiles"
      ],
      "metadata": {
        "id": "kZyPfG6UG8pE"
      }
    },
    {
      "cell_type": "code",
      "source": [
        "# Import relevant data"
      ],
      "metadata": {
        "id": "wGFKSLKIHOh6"
      },
      "execution_count": null,
      "outputs": []
    },
    {
      "cell_type": "markdown",
      "source": [
        "### Profile 1\n",
        "\n",
        "Summary of insights formatted as a caption (see [how to write a caption](https://www.internationalscienceediting.com/how-to-write-a-figure-caption/))."
      ],
      "metadata": {
        "id": "pD8MowIgHTiU"
      }
    },
    {
      "cell_type": "code",
      "source": [
        "# Code generating the profile 1 plot"
      ],
      "metadata": {
        "id": "Dxp2O5EGIEaT"
      },
      "execution_count": null,
      "outputs": []
    },
    {
      "cell_type": "markdown",
      "source": [
        "### Profile 2\n",
        "\n",
        "Summary of insights formatted as a caption (see [how to write a caption](https://www.internationalscienceediting.com/how-to-write-a-figure-caption/))."
      ],
      "metadata": {
        "id": "Y6foGgSlIBeL"
      }
    },
    {
      "cell_type": "code",
      "source": [
        "# Code generating the profile 2 plot"
      ],
      "metadata": {
        "id": "BKVWa40kIKoJ"
      },
      "execution_count": null,
      "outputs": []
    },
    {
      "cell_type": "markdown",
      "source": [
        "## II) KPIs"
      ],
      "metadata": {
        "id": "rebkmQpfITCy"
      }
    },
    {
      "cell_type": "code",
      "source": [
        "# MIP implementation"
      ],
      "metadata": {
        "id": "EWi4gHaaIhi6"
      },
      "execution_count": null,
      "outputs": []
    },
    {
      "cell_type": "markdown",
      "source": [
        "### KPI 1\n",
        "\n",
        "\n",
        "Summary of insights formatted as a caption (see [how to write a caption](https://www.internationalscienceediting.com/how-to-write-a-figure-caption/)).\n"
      ],
      "metadata": {
        "id": "ulQiM0koJnrZ"
      }
    },
    {
      "cell_type": "code",
      "source": [
        "# Code to calculate the KPI."
      ],
      "metadata": {
        "id": "VB8nOD_WJnra"
      },
      "execution_count": null,
      "outputs": []
    }
  ]
}